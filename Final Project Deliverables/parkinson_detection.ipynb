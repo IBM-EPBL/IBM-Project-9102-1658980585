{
  "cells": [
    {
      "cell_type": "markdown",
      "id": "L5Lgwm2Mhopx",
      "metadata": {
        "id": "L5Lgwm2Mhopx"
      },
      "source": [
        "# Data Collection\n",
        "> ## Download the Dataset"
      ]
    },
    {
      "cell_type": "markdown",
      "id": "72sPa5RTiD8c",
      "metadata": {
        "id": "72sPa5RTiD8c"
      },
      "source": [
        "# Image Pre-Processing"
      ]
    },
    {
      "cell_type": "markdown",
      "id": "i0BiCMGviKvE",
      "metadata": {
        "id": "i0BiCMGviKvE"
      },
      "source": [
        "> ## Importing the Necessary Libraries"
      ]
    },
    {
      "cell_type": "code",
      "execution_count": null,
      "id": "2063ca44",
      "metadata": {
        "id": "2063ca44"
      },
      "outputs": [],
      "source": [
        "import numpy as np\n",
        "import pandas as pd\n",
        "import matplotlib.pyplot as plt\n",
        "import seaborn as sns\n",
        "import zipfile as zf\n",
        "import os\n",
        "import random\n",
        "import cv2\n",
        "import pickle\n",
        "from imutils import build_montages\n",
        "from imutils import paths\n",
        "from sklearn.metrics import classification_report,confusion_matrix\n",
        "from sklearn import metrics\n",
        "from sklearn.preprocessing import LabelEncoder,LabelBinarizer\n",
        "from sklearn.model_selection import train_test_split\n",
        "from sklearn.ensemble import RandomForestClassifier,GradientBoostingClassifier,ExtraTreesClassifier\n",
        "from skimage import feature\n",
        "from google.colab.patches import cv2_imshow"
      ]
    },
    {
      "cell_type": "code",
      "execution_count": null,
      "id": "82ec3d81",
      "metadata": {
        "colab": {
          "base_uri": "https://localhost:8080/",
          "height": 36
        },
        "id": "82ec3d81",
        "outputId": "558956fc-7fda-4915-b02d-fd8cb71469ad"
      },
      "outputs": [],
      "source": [
        "sns.set()\n",
        "os.getcwd()"
      ]
    },
    {
      "cell_type": "markdown",
      "id": "W0fFN1Mfiq3g",
      "metadata": {
        "id": "W0fFN1Mfiq3g"
      },
      "source": [
        "> ## Loading the training and testing dataset"
      ]
    },
    {
      "cell_type": "code",
      "execution_count": null,
      "id": "259b7105",
      "metadata": {
        "id": "259b7105"
      },
      "outputs": [],
      "source": [
        "handle_spiral = zf.ZipFile(r'dataset1.zip')\n",
        "handle_spiral.extractall('dataset1')\n",
        "handle_spiral.close()"
      ]
    },
    {
      "cell_type": "code",
      "execution_count": null,
      "id": "cb9bc68a",
      "metadata": {
        "id": "cb9bc68a"
      },
      "outputs": [],
      "source": [
        "spiral_train_healthy = os.listdir('dataset1/dataset/spiral/training/healthy/')\n",
        "spiral_train_park = os.listdir('dataset1/dataset/spiral/training/parkinson/')\n",
        "\n",
        "fp_spiral_train_healthy = 'dataset1/dataset/spiral/training/healthy/'\n",
        "fp_spiral_train_park = 'dataset1/dataset/spiral/training/parkinson/'\n",
        "\n",
        "spiral_test_healthy = os.listdir('dataset1/dataset/spiral/testing/healthy/')\n",
        "spiral_test_park = os.listdir('dataset1/dataset/spiral/testing/parkinson/')\n",
        "\n",
        "fp_spiral_test_healthy = 'dataset1/dataset/spiral/testing/healthy/'\n",
        "fp_spiral_test_park = 'dataset1/dataset/spiral/testing/parkinson/'"
      ]
    },
    {
      "cell_type": "markdown",
      "id": "uIpTmysNilCl",
      "metadata": {
        "id": "uIpTmysNilCl"
      },
      "source": [
        "> ## Quantifying Images"
      ]
    },
    {
      "cell_type": "code",
      "execution_count": null,
      "id": "c9642ca7",
      "metadata": {
        "id": "c9642ca7"
      },
      "outputs": [],
      "source": [
        "def quantify_image(image):\n",
        "  features = feature.hog(image,orientations=9,\n",
        "                pixels_per_cell=(10,10),cells_per_block=(2,2),transform_sqrt=True,block_norm=\"L1\")\n",
        "\n",
        "  return features"
      ]
    },
    {
      "cell_type": "markdown",
      "id": "js2IiuCDjJug",
      "metadata": {
        "id": "js2IiuCDjJug"
      },
      "source": [
        "> ## Splitting up of training and testing data"
      ]
    },
    {
      "cell_type": "code",
      "execution_count": null,
      "id": "fa02f3bb",
      "metadata": {
        "id": "fa02f3bb"
      },
      "outputs": [],
      "source": [
        "trainX = []\n",
        "testX = []\n",
        "outputs = []\n",
        "trainY = []\n",
        "testY = []\n",
        "\n",
        "for i in spiral_train_healthy:\n",
        "  image = cv2.imread(fp_spiral_train_healthy+i)\n",
        "  image = cv2.cvtColor(image , cv2.COLOR_BGR2GRAY)\n",
        "  image = cv2.resize(image , (200,200))\n",
        "  image =cv2.threshold(image, 0, 255,cv2.THRESH_BINARY_INV | cv2.THRESH_OTSU)[1]\n",
        "  features = quantify_image(image)\n",
        "  trainX.append(features)\n",
        "  trainY.append('healthy')\n",
        "\n",
        "for i in spiral_train_park:\n",
        "  image = cv2.imread(fp_spiral_train_park+i)\n",
        "  image = cv2.cvtColor(image , cv2.COLOR_BGR2GRAY)\n",
        "  image = cv2.resize(image , (200,200))\n",
        "  image = cv2.threshold(image ,0,255,cv2.THRESH_BINARY_INV | cv2.THRESH_OTSU)[1]\n",
        "  features = quantify_image(image)\n",
        "  trainX.append(features)\n",
        "  trainY.append('parkinson')\n",
        "\n",
        "for i in spiral_test_healthy:\n",
        "  image = cv2.imread(fp_spiral_test_healthy+i)\n",
        "  outputs.append(image)\n",
        "  image = cv2.cvtColor(image , cv2.COLOR_BGR2GRAY)\n",
        "  image = cv2.resize(image , (200,200))\n",
        "  image = cv2.threshold(image ,0,255,cv2.THRESH_BINARY_INV | cv2.THRESH_OTSU)[1]\n",
        "  features = quantify_image(image)\n",
        "  testX.append(features)\n",
        "  testY.append('healthy')\n",
        "\n",
        "for i in spiral_test_park:\n",
        "  image = cv2.imread(fp_spiral_test_park+i)\n",
        "  outputs.append(image)\n",
        "  image = cv2.cvtColor(image , cv2.COLOR_BGR2GRAY)\n",
        "  image = cv2.resize(image , (200,200))\n",
        "  image = cv2.threshold(image ,0,255,cv2.THRESH_BINARY_INV | cv2.THRESH_OTSU)[1]\n",
        "  features = quantify_image(image)\n",
        "  testX.append(features)\n",
        "  testY.append('parkinson')\n",
        "    "
      ]
    },
    {
      "cell_type": "code",
      "execution_count": null,
      "id": "7080634b",
      "metadata": {
        "colab": {
          "base_uri": "https://localhost:8080/"
        },
        "id": "7080634b",
        "outputId": "c38f41b4-9561-43d6-8af6-2f17e97db8e2"
      },
      "outputs": [],
      "source": [
        "trainX = np.array(trainX)\n",
        "testX = np.array(testX)\n",
        "trainY = np.array(trainY)\n",
        "testY = np.array(testY)\n",
        "trainX"
      ]
    },
    {
      "cell_type": "code",
      "execution_count": null,
      "id": "954c5c58",
      "metadata": {
        "colab": {
          "base_uri": "https://localhost:8080/"
        },
        "id": "954c5c58",
        "outputId": "aa95fff5-f498-43c9-8084-d59831ae77a3"
      },
      "outputs": [],
      "source": [
        "trainY"
      ]
    },
    {
      "cell_type": "code",
      "execution_count": null,
      "id": "b8798c54",
      "metadata": {
        "colab": {
          "base_uri": "https://localhost:8080/"
        },
        "id": "b8798c54",
        "outputId": "66dae7b6-ccdf-4635-f3cf-3ee11f712750"
      },
      "outputs": [],
      "source": [
        "testX"
      ]
    },
    {
      "cell_type": "code",
      "execution_count": null,
      "id": "b170ff9f",
      "metadata": {
        "colab": {
          "base_uri": "https://localhost:8080/"
        },
        "id": "b170ff9f",
        "outputId": "d128bd01-4752-4ca9-883c-b43ab6b2c86d"
      },
      "outputs": [],
      "source": [
        "testY"
      ]
    },
    {
      "cell_type": "markdown",
      "id": "e2MzyvLCjf8u",
      "metadata": {
        "id": "e2MzyvLCjf8u"
      },
      "source": [
        "> ## Label Encoding"
      ]
    },
    {
      "cell_type": "code",
      "execution_count": null,
      "id": "97d5dc20",
      "metadata": {
        "colab": {
          "base_uri": "https://localhost:8080/"
        },
        "id": "97d5dc20",
        "outputId": "1ef076c8-2dc1-4ae7-eafc-2a8b0b1542da"
      },
      "outputs": [],
      "source": [
        "le = LabelEncoder()\n",
        "trainY = le.fit_transform(trainY)\n",
        "testY = le.transform(testY)\n",
        "print(trainX.shape,trainY.shape)"
      ]
    },
    {
      "cell_type": "code",
      "execution_count": null,
      "id": "6818b779",
      "metadata": {
        "colab": {
          "base_uri": "https://localhost:8080/"
        },
        "id": "6818b779",
        "outputId": "09c90ab8-eeba-4cde-a6c5-6e9cefedda09"
      },
      "outputs": [],
      "source": [
        "trainY"
      ]
    },
    {
      "cell_type": "code",
      "execution_count": null,
      "id": "bbd9768b",
      "metadata": {
        "colab": {
          "base_uri": "https://localhost:8080/"
        },
        "id": "bbd9768b",
        "outputId": "70d4d106-4501-451c-b6f4-c9db0fff2fc2"
      },
      "outputs": [],
      "source": [
        "testY"
      ]
    },
    {
      "cell_type": "markdown",
      "id": "yMbg9xz8jtKs",
      "metadata": {
        "id": "yMbg9xz8jtKs"
      },
      "source": [
        "# Model Building"
      ]
    },
    {
      "cell_type": "markdown",
      "id": "Y44uFV6njx66",
      "metadata": {
        "id": "Y44uFV6njx66"
      },
      "source": [
        "> ## Training the model"
      ]
    },
    {
      "cell_type": "code",
      "execution_count": null,
      "id": "1a4d316e",
      "metadata": {
        "colab": {
          "base_uri": "https://localhost:8080/"
        },
        "id": "1a4d316e",
        "outputId": "bd021622-7b95-4c4f-f3a9-c1f88a901130"
      },
      "outputs": [],
      "source": [
        "print(\"Training model....\")\n",
        "model = RandomForestClassifier(n_estimators=100)\n",
        "model.fit(trainX,trainY)"
      ]
    },
    {
      "cell_type": "code",
      "execution_count": null,
      "id": "65cc1ad5",
      "metadata": {
        "colab": {
          "base_uri": "https://localhost:8080/"
        },
        "id": "65cc1ad5",
        "outputId": "08034519-6aa6-4c6b-f7b5-0b473d24175e"
      },
      "outputs": [],
      "source": [
        "preds = model.predict(testX)\n",
        "preds"
      ]
    },
    {
      "cell_type": "markdown",
      "id": "yJ6XuRQZkMAk",
      "metadata": {
        "id": "yJ6XuRQZkMAk"
      },
      "source": [
        "> ## Model Evaluation"
      ]
    },
    {
      "cell_type": "code",
      "execution_count": null,
      "id": "8f4e4b0d",
      "metadata": {
        "colab": {
          "base_uri": "https://localhost:8080/"
        },
        "id": "8f4e4b0d",
        "outputId": "0071480d-b0f8-46ca-9fe5-5ad224143973"
      },
      "outputs": [],
      "source": [
        "cnf = confusion_matrix(testY,preds)\n",
        "cnf"
      ]
    },
    {
      "cell_type": "code",
      "execution_count": null,
      "id": "1faddc80",
      "metadata": {
        "colab": {
          "base_uri": "https://localhost:8080/",
          "height": 322
        },
        "id": "1faddc80",
        "outputId": "26514ebb-d38b-4a8e-9b5d-e3abb4e3b164"
      },
      "outputs": [],
      "source": [
        "plt.figure(figsize=(5,5))\n",
        "sns.heatmap(cnf , annot=True , cmap=\"coolwarm\" , cbar=False)\n",
        "plt.show()"
      ]
    },
    {
      "cell_type": "code",
      "execution_count": null,
      "id": "96e80c80",
      "metadata": {
        "colab": {
          "base_uri": "https://localhost:8080/"
        },
        "id": "96e80c80",
        "outputId": "2cef9d68-8680-42d4-c18e-18d76d958778"
      },
      "outputs": [],
      "source": [
        "acc = metrics.accuracy_score(testY,preds)\n",
        "acc"
      ]
    },
    {
      "cell_type": "code",
      "execution_count": null,
      "id": "799813fa",
      "metadata": {
        "colab": {
          "base_uri": "https://localhost:8080/"
        },
        "id": "799813fa",
        "outputId": "8519933f-46eb-4c98-f848-83302aca79b3"
      },
      "outputs": [],
      "source": [
        "indexes = np.random.randint(0,30,25)\n",
        "indexes"
      ]
    },
    {
      "cell_type": "markdown",
      "id": "FV2S3cjQj9rD",
      "metadata": {
        "id": "FV2S3cjQj9rD"
      },
      "source": [
        "> ## Testing the Model"
      ]
    },
    {
      "cell_type": "code",
      "execution_count": null,
      "id": "177014f4",
      "metadata": {
        "id": "177014f4"
      },
      "outputs": [],
      "source": [
        "testpath=list(paths.list_images(fp_spiral_train_healthy))\n",
        "idxs=np.arange(0,len(testpath))\n",
        "idxs=np.random.choice(idxs,size=(25,),replace=False)\n",
        "images=[]\n",
        "\n",
        "for i in idxs:\n",
        "    image=cv2.imread(testpath[i])\n",
        "    output=image.copy()\n",
        "    output=cv2.resize(output,(128,128))\n",
        "    image=cv2.cvtColor(image,cv2.COLOR_BGR2GRAY)\n",
        "    image=cv2.resize(image,(200,200))\n",
        "    image=cv2.threshold(image,0,255,cv2.THRESH_BINARY_INV | cv2.THRESH_OTSU)[1]\n",
        "\n",
        "    features= quantify_image(image)\n",
        "    preds=model.predict([features])\n",
        "    label=le.inverse_transform(preds)[0]\n",
        "    if label==\"healthy\":\n",
        "      color=(0,255,0) \n",
        "    else:\n",
        "      (0,0,255)\n",
        "    cv2.putText(output,label, (3,20),cv2.FONT_HERSHEY_SIMPLEX,0.5,color,2)\n",
        "    images.append(output)"
      ]
    },
    {
      "cell_type": "code",
      "execution_count": null,
      "id": "d3a7446d",
      "metadata": {
        "colab": {
          "base_uri": "https://localhost:8080/",
          "height": 674
        },
        "id": "d3a7446d",
        "outputId": "ee372c3f-c636-40d1-9414-41bfa3e3236a"
      },
      "outputs": [],
      "source": [
        "'''montage = build_montages(images,(128,128),(5,5))[0]\n",
        "cv2.imshow(montage)\n",
        "cv2.waitKey(0)'''\n",
        "\n",
        "montage=build_montages(images,(128,128),(5,5))[0]\n",
        "cv2_imshow(montage)\n",
        "cv2.waitKey(0)\n"
      ]
    },
    {
      "cell_type": "markdown",
      "id": "BX_I9RnSk8fH",
      "metadata": {
        "id": "BX_I9RnSk8fH"
      },
      "source": [
        "> ## Predicting the model-Accuracy and Confusion Matrix"
      ]
    },
    {
      "cell_type": "code",
      "execution_count": null,
      "id": "5c233e6f",
      "metadata": {
        "colab": {
          "base_uri": "https://localhost:8080/"
        },
        "id": "5c233e6f",
        "outputId": "e3855cff-5c20-4733-b8e6-8223edd78cfe"
      },
      "outputs": [],
      "source": [
        "predictions = model.predict(testX)\n",
        "\n",
        "cm = confusion_matrix(testY, predictions).flatten()\n",
        "print(cm)\n",
        "(tn, fp, fn, tp) = cm\n",
        "accuracy = (tp + tn) / float(cm.sum())\n",
        "print(accuracy)\n"
      ]
    },
    {
      "cell_type": "markdown",
      "id": "KX2guIITkYxn",
      "metadata": {
        "id": "KX2guIITkYxn"
      },
      "source": [
        "> ## Save the Model"
      ]
    },
    {
      "cell_type": "code",
      "execution_count": null,
      "id": "4p6KSADpkeOv",
      "metadata": {
        "id": "4p6KSADpkeOv"
      },
      "outputs": [],
      "source": [
        "pickle.dump(model,open('parkinson.pkl','wb')) "
      ]
    }
  ],
  "metadata": {
    "colab": {
      "provenance": []
    },
    "kernelspec": {
      "display_name": "Python 3.9.5 64-bit",
      "language": "python",
      "name": "python3"
    },
    "language_info": {
      "codemirror_mode": {
        "name": "ipython",
        "version": 3
      },
      "file_extension": ".py",
      "mimetype": "text/x-python",
      "name": "python",
      "nbconvert_exporter": "python",
      "pygments_lexer": "ipython3",
      "version": "3.9.5"
    },
    "vscode": {
      "interpreter": {
        "hash": "ef742790665f9537ebfc2b343e1d9ba8392f1061a99d7af0ccdf091d880fcb5a"
      }
    }
  },
  "nbformat": 4,
  "nbformat_minor": 5
}
